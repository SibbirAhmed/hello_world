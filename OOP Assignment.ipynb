{
 "cells": [
  {
   "cell_type": "code",
   "execution_count": 2,
   "metadata": {},
   "outputs": [],
   "source": [
    "import pandas as pd\n",
    "import numpy as np\n",
    "\n",
    "dataset= pd.read_csv('recent-grads.csv')\n"
   ]
  },
  {
   "cell_type": "code",
   "execution_count": 71,
   "metadata": {},
   "outputs": [
    {
     "name": "stdout",
     "output_type": "stream",
     "text": [
      "maximum values are: \n",
      " \n",
      " Total                393735.000000\n",
      "Unemployment_rate         0.177226\n",
      "Median               110000.000000\n",
      "dtype: float64\n",
      "\n",
      "\n",
      "minimum values are: \n",
      " \n",
      " Total                  124.0\n",
      "Unemployment_rate        0.0\n",
      "Median               22000.0\n",
      "dtype: float64\n",
      "\n",
      "\n",
      "mean values are: \n",
      " \n",
      " Total                39370.081395\n",
      "Unemployment_rate        0.068191\n",
      "Median               40151.445087\n",
      "dtype: float64\n",
      "\n",
      "\n",
      "summation of columns are: \n",
      " \n",
      " Total                6.771654e+06\n",
      "Unemployment_rate    1.179701e+01\n",
      "Median               6.946200e+06\n",
      "dtype: float64\n",
      "\n",
      "\n"
     ]
    }
   ],
   "source": [
    "class sibbir():\n",
    "    \n",
    "    def __init__(self,data):\n",
    "        self.data= data\n",
    "        \n",
    "    def maxx(self,col_name):\n",
    "        print('maximum values are: \\n \\n',self.data[col_name].max())\n",
    "        print('\\n')\n",
    "    \n",
    "    def minn (self,col_name):\n",
    "        print('minimum values are: \\n \\n',self.data[col_name].min())\n",
    "        print('\\n')\n",
    "    \n",
    "    def mean (self,col_name):\n",
    "        print('mean values are: \\n \\n',self.data[col_name].mean())\n",
    "        print('\\n')\n",
    "        \n",
    "    def summ (self,col_name):\n",
    "        print('summation of columns are: \\n \\n',self.data[col_name].sum())\n",
    "        print('\\n')\n",
    "        \n",
    "obj=sibbir(dataset)\n",
    "obj.maxx(['Total','Unemployment_rate','Median'])\n",
    "obj.minn(['Total','Unemployment_rate','Median'])\n",
    "obj.mean(['Total','Unemployment_rate','Median'])\n",
    "obj.summ(['Total','Unemployment_rate','Median'])\n",
    "\n",
    "\n",
    "    "
   ]
  },
  {
   "cell_type": "markdown",
   "metadata": {},
   "source": [
    "#### Though methods are differen for differnt task,but they all could be performed under single method."
   ]
  }
 ],
 "metadata": {
  "kernelspec": {
   "display_name": "Python 3",
   "language": "python",
   "name": "python3"
  },
  "language_info": {
   "codemirror_mode": {
    "name": "ipython",
    "version": 3
   },
   "file_extension": ".py",
   "mimetype": "text/x-python",
   "name": "python",
   "nbconvert_exporter": "python",
   "pygments_lexer": "ipython3",
   "version": "3.7.4"
  }
 },
 "nbformat": 4,
 "nbformat_minor": 2
}
